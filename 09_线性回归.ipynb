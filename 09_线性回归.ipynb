{
 "cells": [
  {
   "cell_type": "code",
   "execution_count": 4,
   "metadata": {},
   "outputs": [
    {
     "data": {
      "text/plain": [
       "(100, 1)"
      ]
     },
     "execution_count": 4,
     "metadata": {},
     "output_type": "execute_result"
    }
   ],
   "source": [
    "from sklearn.preprocessing import PolynomialFeatures as PF\n",
    "from sklearn.linear_model import LinearRegression\n",
    "import numpy as np\n",
    "rnd = np.random.RandomState(42) #设置随机数种子\n",
    "X = rnd.uniform(-3, 3, size=100)\n",
    "y = np.sin(X) + rnd.normal(size=len(X)) / 3\n",
    "#将X升维，准备好放入sklearn中\n",
    "X = X.reshape(-1,1)\n",
    "X.shape"
   ]
  },
  {
   "cell_type": "code",
   "execution_count": 12,
   "metadata": {},
   "outputs": [
    {
     "data": {
      "text/plain": [
       "array([[-0.75275929],\n",
       "       [ 2.70428584],\n",
       "       [ 1.39196365],\n",
       "       [ 0.59195091],\n",
       "       [-2.06388816],\n",
       "       [-2.06403288],\n",
       "       [-2.65149833],\n",
       "       [ 2.19705687],\n",
       "       [ 0.60669007],\n",
       "       [ 1.24843547]])"
      ]
     },
     "execution_count": 12,
     "metadata": {},
     "output_type": "execute_result"
    }
   ],
   "source": [
    "X[:10]"
   ]
  },
  {
   "cell_type": "code",
   "execution_count": 5,
   "metadata": {},
   "outputs": [
    {
     "data": {
      "text/plain": [
       "0.5361526059318595"
      ]
     },
     "execution_count": 5,
     "metadata": {},
     "output_type": "execute_result"
    }
   ],
   "source": [
    "#创建测试数据，均匀分布在训练集X的取值范围内的一千个点\n",
    "line = np.linspace(-3, 3, 1000, endpoint=False).reshape(-1, 1)\n",
    "#原始特征矩阵的拟合结果\n",
    "LinearR = LinearRegression().fit(X, y)\n",
    "#对训练数据的拟合\n",
    "LinearR.score(X,y)"
   ]
  },
  {
   "cell_type": "code",
   "execution_count": 13,
   "metadata": {},
   "outputs": [
    {
     "data": {
      "text/plain": [
       "0.6800102369793312"
      ]
     },
     "execution_count": 13,
     "metadata": {},
     "output_type": "execute_result"
    }
   ],
   "source": [
    "#  #对测试数据的拟合\n",
    "LinearR.score(line,np.sin(line))"
   ]
  },
  {
   "cell_type": "code",
   "execution_count": 20,
   "metadata": {},
   "outputs": [
    {
     "data": {
      "text/plain": [
       "(1000, 6)"
      ]
     },
     "execution_count": 20,
     "metadata": {},
     "output_type": "execute_result"
    }
   ],
   "source": [
    "# 多项式拟合， 设定最高次项\n",
    "d= 5\n",
    "\n",
    "# 进行高次项的转换\n",
    "ploy = PF(degree=d)\n",
    "X_ = ploy.fit_transform(X)  # 训练数据的转换\n",
    "line_ = PF(degree=d).fit_transform(line)  # 测试数据的转换\n",
    "line_.shape"
   ]
  },
  {
   "cell_type": "code",
   "execution_count": 21,
   "metadata": {},
   "outputs": [
    {
     "data": {
      "text/plain": [
       "(100, 6)"
      ]
     },
     "execution_count": 21,
     "metadata": {},
     "output_type": "execute_result"
    }
   ],
   "source": [
    "X_.shape"
   ]
  },
  {
   "cell_type": "code",
   "execution_count": 37,
   "metadata": {},
   "outputs": [
    {
     "data": {
      "text/plain": [
       "['1', 'x0', 'x0^2', 'x0^3', 'x0^4', 'x0^5']"
      ]
     },
     "execution_count": 37,
     "metadata": {},
     "output_type": "execute_result"
    }
   ],
   "source": [
    "ploy.get_feature_names()"
   ]
  },
  {
   "cell_type": "code",
   "execution_count": 22,
   "metadata": {},
   "outputs": [
    {
     "data": {
      "text/plain": [
       "(100, 1)"
      ]
     },
     "execution_count": 22,
     "metadata": {},
     "output_type": "execute_result"
    }
   ],
   "source": [
    "X.shape"
   ]
  },
  {
   "cell_type": "code",
   "execution_count": 23,
   "metadata": {},
   "outputs": [
    {
     "data": {
      "text/plain": [
       "0.8561679370344799"
      ]
     },
     "execution_count": 23,
     "metadata": {},
     "output_type": "execute_result"
    }
   ],
   "source": [
    "#  进行数据的拟合\n",
    "Linear_R = LinearRegression().fit(X_,y)\n",
    "Linear_R.score(X_,y)"
   ]
  },
  {
   "cell_type": "code",
   "execution_count": 24,
   "metadata": {},
   "outputs": [
    {
     "data": {
      "text/plain": [
       "0.9868904451787983"
      ]
     },
     "execution_count": 24,
     "metadata": {},
     "output_type": "execute_result"
    }
   ],
   "source": [
    "# 测试数据的拟合\n",
    "Linear_R.score(line_, np.sin(line))"
   ]
  },
  {
   "cell_type": "code",
   "execution_count": 35,
   "metadata": {},
   "outputs": [
    {
     "data": {
      "image/png": "[encoded data removed]",
      "text/plain": [
       "<Figure size 432x288 with 1 Axes>"
      ]
     },
     "metadata": {
      "needs_background": "light"
     },
     "output_type": "display_data"
    }
   ],
   "source": [
    "import matplotlib.pyplot as plt\n",
    "%matplotlib inline\n",
    "d=5\n",
    "#和上面展示一致的建模流程\n",
    "LinearR = LinearRegression().fit(X, y)\n",
    "X_ = PF(degree=d).fit_transform(X)\n",
    "LinearR_ = LinearRegression().fit(X_, y)\n",
    "line = np.linspace(-3, 3, 1000, endpoint=False).reshape(-1,1)\n",
    "line_ = PF(degree=d).fit_transform(line)\n",
    "# 放置画布\n",
    "fig,ax1 = plt.subplots(1)\n",
    "#将测试数据带入predict接口，获得模型的拟合效果并进行绘制\n",
    "ax1.plot(line, LinearR.predict(line), linewidth=2, color=\"green\"\n",
    "        ,label=\"linear regression\")\n",
    "ax1.plot(line, LinearR_.predict(line_), linewidth=2, color=\"red\"\n",
    "        ,label=\"Polynomial regression\")\n",
    "#将原数据上的拟合绘制在图像上\n",
    "ax1.plot(X[:, 0], y, 'o', c='k')\n",
    "                                                    \n",
    "#其他图形选项\n",
    "ax1.legend(loc=\"best\")\n",
    "ax1.set_ylabel(\"Regression output\")\n",
    "ax1.set_xlabel(\"Input feature\")\n",
    "ax1.set_title(\"Linear Regression ordinary vs poly\")\n",
    "plt.tight_layout()\n",
    "plt.show()"
   ]
  },
  {
   "cell_type": "markdown",
   "metadata": {},
   "source": [
    "我们可以使用接口get_feature_names来调用生成的新特征矩阵的各个特\n",
    "征上的名称，以便帮助我们解释模型"
   ]
  },
  {
   "cell_type": "code",
   "execution_count": 38,
   "metadata": {},
   "outputs": [],
   "source": [
    "import numpy as np\n",
    "from sklearn.preprocessing import PolynomialFeatures\n",
    "from sklearn.linear_model import LinearRegression\n",
    "\n"
   ]
  },
  {
   "cell_type": "code",
   "execution_count": 40,
   "metadata": {},
   "outputs": [
    {
     "data": {
      "text/plain": [
       "array([[0, 1, 2],\n",
       "       [3, 4, 5],\n",
       "       [6, 7, 8]])"
      ]
     },
     "execution_count": 40,
     "metadata": {},
     "output_type": "execute_result"
    }
   ],
   "source": [
    "X = np.arange(9).reshape(3,3)\n",
    "X"
   ]
  },
  {
   "cell_type": "code",
   "execution_count": 42,
   "metadata": {},
   "outputs": [
    {
     "data": {
      "text/plain": [
       "PolynomialFeatures(degree=5, include_bias=True, interaction_only=False)"
      ]
     },
     "execution_count": 42,
     "metadata": {},
     "output_type": "execute_result"
    }
   ],
   "source": [
    "ploy = PolynomialFeatures(degree=5).fit(X)\n",
    "ploy"
   ]
  },
  {
   "cell_type": "code",
   "execution_count": 45,
   "metadata": {},
   "outputs": [
    {
     "data": {
      "text/plain": [
       "['1',\n",
       " 'x0',\n",
       " 'x1',\n",
       " 'x2',\n",
       " 'x0^2',\n",
       " 'x0 x1',\n",
       " 'x0 x2',\n",
       " 'x1^2',\n",
       " 'x1 x2',\n",
       " 'x2^2',\n",
       " 'x0^3',\n",
       " 'x0^2 x1',\n",
       " 'x0^2 x2',\n",
       " 'x0 x1^2',\n",
       " 'x0 x1 x2',\n",
       " 'x0 x2^2',\n",
       " 'x1^3',\n",
       " 'x1^2 x2',\n",
       " 'x1 x2^2',\n",
       " 'x2^3',\n",
       " 'x0^4',\n",
       " 'x0^3 x1',\n",
       " 'x0^3 x2',\n",
       " 'x0^2 x1^2',\n",
       " 'x0^2 x1 x2',\n",
       " 'x0^2 x2^2',\n",
       " 'x0 x1^3',\n",
       " 'x0 x1^2 x2',\n",
       " 'x0 x1 x2^2',\n",
       " 'x0 x2^3',\n",
       " 'x1^4',\n",
       " 'x1^3 x2',\n",
       " 'x1^2 x2^2',\n",
       " 'x1 x2^3',\n",
       " 'x2^4',\n",
       " 'x0^5',\n",
       " 'x0^4 x1',\n",
       " 'x0^4 x2',\n",
       " 'x0^3 x1^2',\n",
       " 'x0^3 x1 x2',\n",
       " 'x0^3 x2^2',\n",
       " 'x0^2 x1^3',\n",
       " 'x0^2 x1^2 x2',\n",
       " 'x0^2 x1 x2^2',\n",
       " 'x0^2 x2^3',\n",
       " 'x0 x1^4',\n",
       " 'x0 x1^3 x2',\n",
       " 'x0 x1^2 x2^2',\n",
       " 'x0 x1 x2^3',\n",
       " 'x0 x2^4',\n",
       " 'x1^5',\n",
       " 'x1^4 x2',\n",
       " 'x1^3 x2^2',\n",
       " 'x1^2 x2^3',\n",
       " 'x1 x2^4',\n",
       " 'x2^5']"
      ]
     },
     "execution_count": 45,
     "metadata": {},
     "output_type": "execute_result"
    }
   ],
   "source": [
    "# 重要接口 gte_feature_names\n",
    "ploy.get_feature_names()"
   ]
  },
  {
   "cell_type": "code",
   "execution_count": 46,
   "metadata": {},
   "outputs": [
    {
     "data": {
      "text/plain": [
       "56"
      ]
     },
     "execution_count": 46,
     "metadata": {},
     "output_type": "execute_result"
    }
   ],
   "source": [
    "len(ploy.get_feature_names())"
   ]
  },
  {
   "cell_type": "code",
   "execution_count": 47,
   "metadata": {},
   "outputs": [
    {
     "name": "stderr",
     "output_type": "stream",
     "text": [
      "Downloading Cal. housing from https://ndownloader.figshare.com/files/5976036 to C:\\Users\\Sundasheng\\scikit_learn_data\n"
     ]
    },
    {
     "data": {
      "text/plain": [
       "{'data': array([[   8.3252    ,   41.        ,    6.98412698, ...,    2.55555556,\n",
       "           37.88      , -122.23      ],\n",
       "        [   8.3014    ,   21.        ,    6.23813708, ...,    2.10984183,\n",
       "           37.86      , -122.22      ],\n",
       "        [   7.2574    ,   52.        ,    8.28813559, ...,    2.80225989,\n",
       "           37.85      , -122.24      ],\n",
       "        ...,\n",
       "        [   1.7       ,   17.        ,    5.20554273, ...,    2.3256351 ,\n",
       "           39.43      , -121.22      ],\n",
       "        [   1.8672    ,   18.        ,    5.32951289, ...,    2.12320917,\n",
       "           39.43      , -121.32      ],\n",
       "        [   2.3886    ,   16.        ,    5.25471698, ...,    2.61698113,\n",
       "           39.37      , -121.24      ]]),\n",
       " 'target': array([4.526, 3.585, 3.521, ..., 0.923, 0.847, 0.894]),\n",
       " 'feature_names': ['MedInc',\n",
       "  'HouseAge',\n",
       "  'AveRooms',\n",
       "  'AveBedrms',\n",
       "  'Population',\n",
       "  'AveOccup',\n",
       "  'Latitude',\n",
       "  'Longitude'],\n",
       " 'DESCR': '.. _california_housing_dataset:\\n\\nCalifornia Housing dataset\\n--------------------------\\n\\n**Data Set Characteristics:**\\n\\n    :Number of Instances: 20640\\n\\n    :Number of Attributes: 8 numeric, predictive attributes and the target\\n\\n    :Attribute Information:\\n        - MedInc        median income in block\\n        - HouseAge      median house age in block\\n        - AveRooms      average number of rooms\\n        - AveBedrms     average number of bedrooms\\n        - Population    block population\\n        - AveOccup      average house occupancy\\n        - Latitude      house block latitude\\n        - Longitude     house block longitude\\n\\n    :Missing Attribute Values: None\\n\\nThis dataset was obtained from the StatLib repository.\\nhttp://lib.stat.cmu.edu/datasets/\\n\\nThe target variable is the median house value for California districts.\\n\\nThis dataset was derived from the 1990 U.S. census, using one row per census\\nblock group. A block group is the smallest geographical unit for which the U.S.\\nCensus Bureau publishes sample data (a block group typically has a population\\nof 600 to 3,000 people).\\n\\nIt can be downloaded/loaded using the\\n:func:`sklearn.datasets.fetch_california_housing` function.\\n\\n.. topic:: References\\n\\n    - Pace, R. Kelley and Ronald Barry, Sparse Spatial Autoregressions,\\n      Statistics and Probability Letters, 33 (1997) 291-297\\n'}"
      ]
     },
     "execution_count": 47,
     "metadata": {},
     "output_type": "execute_result"
    }
   ],
   "source": [
    "from sklearn.datasets import fetch_california_housing as fch\n",
    "import pandas as pd\n",
    "housevalue = fch()\n",
    "housevalue"
   ]
  },
  {
   "cell_type": "code",
   "execution_count": 48,
   "metadata": {},
   "outputs": [],
   "source": [
    "x = pd.DataFrame(housevalue.data)\n",
    "y = housevalue.target"
   ]
  },
  {
   "cell_type": "code",
   "execution_count": 49,
   "metadata": {},
   "outputs": [
    {
     "data": {
      "text/plain": [
       "['MedInc',\n",
       " 'HouseAge',\n",
       " 'AveRooms',\n",
       " 'AveBedrms',\n",
       " 'Population',\n",
       " 'AveOccup',\n",
       " 'Latitude',\n",
       " 'Longitude']"
      ]
     },
     "execution_count": 49,
     "metadata": {},
     "output_type": "execute_result"
    }
   ],
   "source": [
    "housevalue.feature_names"
   ]
  },
  {
   "cell_type": "code",
   "execution_count": 50,
   "metadata": {},
   "outputs": [],
   "source": [
    "x.columns = [\"住户收入中位数\",\"房屋使用年代中位数\",\"平均房间数目\"\n",
    ",\"平均卧室数目\",\"街区人口\",\"平均入住率\",\"街区的纬度\",\"街区的经度\"]"
   ]
  },
  {
   "cell_type": "code",
   "execution_count": 53,
   "metadata": {},
   "outputs": [
    {
     "data": {
      "text/plain": [
       "['1',\n",
       " '住户收入中位数',\n",
       " '房屋使用年代中位数',\n",
       " '平均房间数目',\n",
       " '平均卧室数目',\n",
       " '街区人口',\n",
       " '平均入住率',\n",
       " '街区的纬度',\n",
       " '街区的经度',\n",
       " '住户收入中位数^2',\n",
       " '住户收入中位数 房屋使用年代中位数',\n",
       " '住户收入中位数 平均房间数目',\n",
       " '住户收入中位数 平均卧室数目',\n",
       " '住户收入中位数 街区人口',\n",
       " '住户收入中位数 平均入住率',\n",
       " '住户收入中位数 街区的纬度',\n",
       " '住户收入中位数 街区的经度',\n",
       " '房屋使用年代中位数^2',\n",
       " '房屋使用年代中位数 平均房间数目',\n",
       " '房屋使用年代中位数 平均卧室数目',\n",
       " '房屋使用年代中位数 街区人口',\n",
       " '房屋使用年代中位数 平均入住率',\n",
       " '房屋使用年代中位数 街区的纬度',\n",
       " '房屋使用年代中位数 街区的经度',\n",
       " '平均房间数目^2',\n",
       " '平均房间数目 平均卧室数目',\n",
       " '平均房间数目 街区人口',\n",
       " '平均房间数目 平均入住率',\n",
       " '平均房间数目 街区的纬度',\n",
       " '平均房间数目 街区的经度',\n",
       " '平均卧室数目^2',\n",
       " '平均卧室数目 街区人口',\n",
       " '平均卧室数目 平均入住率',\n",
       " '平均卧室数目 街区的纬度',\n",
       " '平均卧室数目 街区的经度',\n",
       " '街区人口^2',\n",
       " '街区人口 平均入住率',\n",
       " '街区人口 街区的纬度',\n",
       " '街区人口 街区的经度',\n",
       " '平均入住率^2',\n",
       " '平均入住率 街区的纬度',\n",
       " '平均入住率 街区的经度',\n",
       " '街区的纬度^2',\n",
       " '街区的纬度 街区的经度',\n",
       " '街区的经度^2']"
      ]
     },
     "execution_count": 53,
     "metadata": {},
     "output_type": "execute_result"
    }
   ],
   "source": [
    "poly = PolynomialFeatures(degree=2).fit(x,y)\n",
    "poly.get_feature_names(x.columns)"
   ]
  },
  {
   "cell_type": "code",
   "execution_count": 55,
   "metadata": {},
   "outputs": [
    {
     "data": {
      "text/plain": [
       "(20640, 45)"
      ]
     },
     "execution_count": 55,
     "metadata": {},
     "output_type": "execute_result"
    }
   ],
   "source": [
    "x_ = poly.transform(x)\n",
    "#  在这之后\n",
    "x_.shape"
   ]
  },
  {
   "cell_type": "code",
   "execution_count": 56,
   "metadata": {},
   "outputs": [],
   "source": [
    "# 在这之后，我们依然可以直接建立模型，然后使用下行回归的 coef_属性 来查看什么特征对标签的影响最大\n",
    "reg = LinearRegression().fit(x_,y)"
   ]
  },
  {
   "cell_type": "code",
   "execution_count": 58,
   "metadata": {},
   "outputs": [
    {
     "data": {
      "text/plain": [
       "array([ 5.91954814e-08, -1.12430256e+01, -8.48898555e-01,  6.44105940e+00,\n",
       "       -3.15913308e+01,  4.06090678e-04,  1.00386233e+00,  8.70568192e+00,\n",
       "        5.88063275e+00, -3.13081210e-02,  1.85994754e-03,  4.33020364e-02,\n",
       "       -1.86142288e-01,  5.72831401e-05, -2.59019451e-03, -1.52505719e-01,\n",
       "       -1.44242945e-01,  2.11725362e-04, -1.26218981e-03,  1.06115037e-02,\n",
       "        2.81885312e-06, -1.81716946e-03, -1.00690374e-02, -9.99950183e-03,\n",
       "        7.26947768e-03, -6.89064378e-02, -6.82365591e-05,  2.68878839e-02,\n",
       "        8.75089954e-02,  8.22890400e-02,  1.60180957e-01,  5.14264000e-04,\n",
       "       -8.71911374e-02, -4.37043037e-01, -4.04150612e-01,  2.73779156e-09,\n",
       "        1.91426752e-05,  2.29529831e-05,  1.46567757e-05,  8.71561034e-05,\n",
       "        2.13344592e-02,  1.62412938e-02,  6.18867357e-02,  1.08107173e-01,\n",
       "        3.99077351e-02])"
      ]
     },
     "execution_count": 58,
     "metadata": {},
     "output_type": "execute_result"
    }
   ],
   "source": [
    "coef = reg.coef_\n",
    "coef"
   ]
  },
  {
   "cell_type": "code",
   "execution_count": 61,
   "metadata": {},
   "outputs": [
    {
     "data": {
      "text/plain": [
       "<zip at 0x13854ce4e48>"
      ]
     },
     "execution_count": 61,
     "metadata": {},
     "output_type": "execute_result"
    }
   ],
   "source": [
    "zip(ploy.get_feature_names(x.columns),reg.coef_)"
   ]
  },
  {
   "cell_type": "code",
   "execution_count": 62,
   "metadata": {},
   "outputs": [
    {
     "data": {
      "text/plain": [
       "[<zip at 0x13854ce8808>]"
      ]
     },
     "execution_count": 62,
     "metadata": {},
     "output_type": "execute_result"
    }
   ],
   "source": [
    "[zip(ploy.get_feature_names(x.columns),reg.coef_)]"
   ]
  },
  {
   "cell_type": "code",
   "execution_count": 63,
   "metadata": {},
   "outputs": [
    {
     "data": {
      "text/plain": [
       "[('1', 5.919548140983325e-08),\n",
       " ('住户收入中位数', -11.243025601117052),\n",
       " ('房屋使用年代中位数', -0.8488985550865555),\n",
       " ('平均房间数目', 6.4410594008838045),\n",
       " ('住户收入中位数^2', -31.591330845036552),\n",
       " ('住户收入中位数 房屋使用年代中位数', 0.000406090678218692),\n",
       " ('住户收入中位数 平均房间数目', 1.003862325169533),\n",
       " ('房屋使用年代中位数^2', 8.705681915719548),\n",
       " ('房屋使用年代中位数 平均房间数目', 5.88063274731183),\n",
       " ('平均房间数目^2', -0.0313081210095138),\n",
       " ('住户收入中位数^3', 0.0018599475393608605),\n",
       " ('住户收入中位数^2 房屋使用年代中位数', 0.043302036387842704),\n",
       " ('住户收入中位数^2 平均房间数目', -0.1861422884820042),\n",
       " ('住户收入中位数 房屋使用年代中位数^2', 5.728314010956206e-05),\n",
       " ('住户收入中位数 房屋使用年代中位数 平均房间数目', -0.00259019450741919),\n",
       " ('住户收入中位数 平均房间数目^2', -0.1525057186944929),\n",
       " ('房屋使用年代中位数^3', -0.14424294470380783),\n",
       " ('房屋使用年代中位数^2 平均房间数目', 0.00021172536249754108),\n",
       " ('房屋使用年代中位数 平均房间数目^2', -0.0012621898121649244),\n",
       " ('平均房间数目^3', 0.010611503740612926),\n",
       " ('住户收入中位数^4', 2.8188531228417142e-06),\n",
       " ('住户收入中位数^3 房屋使用年代中位数', -0.001817169463555776),\n",
       " ('住户收入中位数^3 平均房间数目', -0.010069037408713212),\n",
       " ('住户收入中位数^2 房屋使用年代中位数^2', -0.00999950183371761),\n",
       " ('住户收入中位数^2 房屋使用年代中位数 平均房间数目', 0.007269477678420887),\n",
       " ('住户收入中位数^2 平均房间数目^2', -0.06890643779325023),\n",
       " ('住户收入中位数 房屋使用年代中位数^3', -6.823655905927973e-05),\n",
       " ('住户收入中位数 房屋使用年代中位数^2 平均房间数目', 0.02688788386934239),\n",
       " ('住户收入中位数 房屋使用年代中位数 平均房间数目^2', 0.08750899544328644),\n",
       " ('住户收入中位数 平均房间数目^3', 0.08228904004428692),\n",
       " ('房屋使用年代中位数^4', 0.16018095673076294),\n",
       " ('房屋使用年代中位数^3 平均房间数目', 0.0005142639998074091),\n",
       " ('房屋使用年代中位数^2 平均房间数目^2', -0.08719113737712175),\n",
       " ('房屋使用年代中位数 平均房间数目^3', -0.4370430370283017),\n",
       " ('平均房间数目^4', -0.40415061190830226),\n",
       " ('住户收入中位数^5', 2.7377915550354326e-09),\n",
       " ('住户收入中位数^4 房屋使用年代中位数', 1.9142675218200485e-05),\n",
       " ('住户收入中位数^4 平均房间数目', 2.2952983073875922e-05),\n",
       " ('住户收入中位数^3 房屋使用年代中位数^2', 1.4656775674481048e-05),\n",
       " ('住户收入中位数^3 房屋使用年代中位数 平均房间数目', 8.7156103435594e-05),\n",
       " ('住户收入中位数^3 平均房间数目^2', 0.02133445921994704),\n",
       " ('住户收入中位数^2 房屋使用年代中位数^3', 0.01624129381804313),\n",
       " ('住户收入中位数^2 房屋使用年代中位数^2 平均房间数目', 0.06188673574125679),\n",
       " ('住户收入中位数^2 房屋使用年代中位数 平均房间数目^2', 0.10810717328653006),\n",
       " ('住户收入中位数^2 平均房间数目^3', 0.03990773509638848)]"
      ]
     },
     "execution_count": 63,
     "metadata": {},
     "output_type": "execute_result"
    }
   ],
   "source": [
    "[*zip(ploy.get_feature_names(x.columns),reg.coef_)]"
   ]
  },
  {
   "cell_type": "code",
   "execution_count": 66,
   "metadata": {},
   "outputs": [
    {
     "data": {
      "text/html": [
       "<div>\n",
       "<style scoped>\n",
       "    .dataframe tbody tr th:only-of-type {\n",
       "        vertical-align: middle;\n",
       "    }\n",
       "\n",
       "    .dataframe tbody tr th {\n",
       "        vertical-align: top;\n",
       "    }\n",
       "\n",
       "    .dataframe thead th {\n",
       "        text-align: right;\n",
       "    }\n",
       "</style>\n",
       "<table border=\"1\" class=\"dataframe\">\n",
       "  <thead>\n",
       "    <tr style=\"text-align: right;\">\n",
       "      <th></th>\n",
       "      <th>0</th>\n",
       "      <th>1</th>\n",
       "    </tr>\n",
       "  </thead>\n",
       "  <tbody>\n",
       "    <tr>\n",
       "      <th>0</th>\n",
       "      <td>1</td>\n",
       "      <td>5.91955e-08</td>\n",
       "    </tr>\n",
       "    <tr>\n",
       "      <th>1</th>\n",
       "      <td>住户收入中位数</td>\n",
       "      <td>-11.243</td>\n",
       "    </tr>\n",
       "    <tr>\n",
       "      <th>2</th>\n",
       "      <td>房屋使用年代中位数</td>\n",
       "      <td>-0.848899</td>\n",
       "    </tr>\n",
       "    <tr>\n",
       "      <th>3</th>\n",
       "      <td>平均房间数目</td>\n",
       "      <td>6.44106</td>\n",
       "    </tr>\n",
       "    <tr>\n",
       "      <th>4</th>\n",
       "      <td>平均卧室数目</td>\n",
       "      <td>-31.5913</td>\n",
       "    </tr>\n",
       "  </tbody>\n",
       "</table>\n",
       "</div>"
      ],
      "text/plain": [
       "           0            1\n",
       "0          1  5.91955e-08\n",
       "1    住户收入中位数      -11.243\n",
       "2  房屋使用年代中位数    -0.848899\n",
       "3     平均房间数目      6.44106\n",
       "4     平均卧室数目     -31.5913"
      ]
     },
     "execution_count": 66,
     "metadata": {},
     "output_type": "execute_result"
    }
   ],
   "source": [
    "#  放入到  DataFrame中去进行排序\n",
    "coeff = pd.DataFrame([poly.get_feature_names(x.columns),reg.coef_.tolist()]).T\n",
    "coeff.head()\n"
   ]
  },
  {
   "cell_type": "code",
   "execution_count": 69,
   "metadata": {},
   "outputs": [
    {
     "data": {
      "text/html": [
       "<div>\n",
       "<style scoped>\n",
       "    .dataframe tbody tr th:only-of-type {\n",
       "        vertical-align: middle;\n",
       "    }\n",
       "\n",
       "    .dataframe tbody tr th {\n",
       "        vertical-align: top;\n",
       "    }\n",
       "\n",
       "    .dataframe thead th {\n",
       "        text-align: right;\n",
       "    }\n",
       "</style>\n",
       "<table border=\"1\" class=\"dataframe\">\n",
       "  <thead>\n",
       "    <tr style=\"text-align: right;\">\n",
       "      <th></th>\n",
       "      <th>features</th>\n",
       "      <th>coef</th>\n",
       "    </tr>\n",
       "  </thead>\n",
       "  <tbody>\n",
       "    <tr>\n",
       "      <th>4</th>\n",
       "      <td>平均卧室数目</td>\n",
       "      <td>-31.5913</td>\n",
       "    </tr>\n",
       "    <tr>\n",
       "      <th>1</th>\n",
       "      <td>住户收入中位数</td>\n",
       "      <td>-11.243</td>\n",
       "    </tr>\n",
       "    <tr>\n",
       "      <th>2</th>\n",
       "      <td>房屋使用年代中位数</td>\n",
       "      <td>-0.848899</td>\n",
       "    </tr>\n",
       "    <tr>\n",
       "      <th>33</th>\n",
       "      <td>平均卧室数目 街区的纬度</td>\n",
       "      <td>-0.437043</td>\n",
       "    </tr>\n",
       "    <tr>\n",
       "      <th>34</th>\n",
       "      <td>平均卧室数目 街区的经度</td>\n",
       "      <td>-0.404151</td>\n",
       "    </tr>\n",
       "    <tr>\n",
       "      <th>12</th>\n",
       "      <td>住户收入中位数 平均卧室数目</td>\n",
       "      <td>-0.186142</td>\n",
       "    </tr>\n",
       "    <tr>\n",
       "      <th>15</th>\n",
       "      <td>住户收入中位数 街区的纬度</td>\n",
       "      <td>-0.152506</td>\n",
       "    </tr>\n",
       "    <tr>\n",
       "      <th>16</th>\n",
       "      <td>住户收入中位数 街区的经度</td>\n",
       "      <td>-0.144243</td>\n",
       "    </tr>\n",
       "    <tr>\n",
       "      <th>32</th>\n",
       "      <td>平均卧室数目 平均入住率</td>\n",
       "      <td>-0.0871911</td>\n",
       "    </tr>\n",
       "    <tr>\n",
       "      <th>25</th>\n",
       "      <td>平均房间数目 平均卧室数目</td>\n",
       "      <td>-0.0689064</td>\n",
       "    </tr>\n",
       "    <tr>\n",
       "      <th>9</th>\n",
       "      <td>住户收入中位数^2</td>\n",
       "      <td>-0.0313081</td>\n",
       "    </tr>\n",
       "    <tr>\n",
       "      <th>22</th>\n",
       "      <td>房屋使用年代中位数 街区的纬度</td>\n",
       "      <td>-0.010069</td>\n",
       "    </tr>\n",
       "    <tr>\n",
       "      <th>23</th>\n",
       "      <td>房屋使用年代中位数 街区的经度</td>\n",
       "      <td>-0.0099995</td>\n",
       "    </tr>\n",
       "    <tr>\n",
       "      <th>14</th>\n",
       "      <td>住户收入中位数 平均入住率</td>\n",
       "      <td>-0.00259019</td>\n",
       "    </tr>\n",
       "    <tr>\n",
       "      <th>21</th>\n",
       "      <td>房屋使用年代中位数 平均入住率</td>\n",
       "      <td>-0.00181717</td>\n",
       "    </tr>\n",
       "    <tr>\n",
       "      <th>18</th>\n",
       "      <td>房屋使用年代中位数 平均房间数目</td>\n",
       "      <td>-0.00126219</td>\n",
       "    </tr>\n",
       "    <tr>\n",
       "      <th>26</th>\n",
       "      <td>平均房间数目 街区人口</td>\n",
       "      <td>-6.82366e-05</td>\n",
       "    </tr>\n",
       "    <tr>\n",
       "      <th>35</th>\n",
       "      <td>街区人口^2</td>\n",
       "      <td>2.73779e-09</td>\n",
       "    </tr>\n",
       "    <tr>\n",
       "      <th>0</th>\n",
       "      <td>1</td>\n",
       "      <td>5.91955e-08</td>\n",
       "    </tr>\n",
       "    <tr>\n",
       "      <th>20</th>\n",
       "      <td>房屋使用年代中位数 街区人口</td>\n",
       "      <td>2.81885e-06</td>\n",
       "    </tr>\n",
       "    <tr>\n",
       "      <th>38</th>\n",
       "      <td>街区人口 街区的经度</td>\n",
       "      <td>1.46568e-05</td>\n",
       "    </tr>\n",
       "    <tr>\n",
       "      <th>36</th>\n",
       "      <td>街区人口 平均入住率</td>\n",
       "      <td>1.91427e-05</td>\n",
       "    </tr>\n",
       "    <tr>\n",
       "      <th>37</th>\n",
       "      <td>街区人口 街区的纬度</td>\n",
       "      <td>2.2953e-05</td>\n",
       "    </tr>\n",
       "    <tr>\n",
       "      <th>13</th>\n",
       "      <td>住户收入中位数 街区人口</td>\n",
       "      <td>5.72831e-05</td>\n",
       "    </tr>\n",
       "    <tr>\n",
       "      <th>39</th>\n",
       "      <td>平均入住率^2</td>\n",
       "      <td>8.71561e-05</td>\n",
       "    </tr>\n",
       "    <tr>\n",
       "      <th>17</th>\n",
       "      <td>房屋使用年代中位数^2</td>\n",
       "      <td>0.000211725</td>\n",
       "    </tr>\n",
       "    <tr>\n",
       "      <th>5</th>\n",
       "      <td>街区人口</td>\n",
       "      <td>0.000406091</td>\n",
       "    </tr>\n",
       "    <tr>\n",
       "      <th>31</th>\n",
       "      <td>平均卧室数目 街区人口</td>\n",
       "      <td>0.000514264</td>\n",
       "    </tr>\n",
       "    <tr>\n",
       "      <th>10</th>\n",
       "      <td>住户收入中位数 房屋使用年代中位数</td>\n",
       "      <td>0.00185995</td>\n",
       "    </tr>\n",
       "    <tr>\n",
       "      <th>24</th>\n",
       "      <td>平均房间数目^2</td>\n",
       "      <td>0.00726948</td>\n",
       "    </tr>\n",
       "    <tr>\n",
       "      <th>19</th>\n",
       "      <td>房屋使用年代中位数 平均卧室数目</td>\n",
       "      <td>0.0106115</td>\n",
       "    </tr>\n",
       "    <tr>\n",
       "      <th>41</th>\n",
       "      <td>平均入住率 街区的经度</td>\n",
       "      <td>0.0162413</td>\n",
       "    </tr>\n",
       "    <tr>\n",
       "      <th>40</th>\n",
       "      <td>平均入住率 街区的纬度</td>\n",
       "      <td>0.0213345</td>\n",
       "    </tr>\n",
       "    <tr>\n",
       "      <th>27</th>\n",
       "      <td>平均房间数目 平均入住率</td>\n",
       "      <td>0.0268879</td>\n",
       "    </tr>\n",
       "    <tr>\n",
       "      <th>44</th>\n",
       "      <td>街区的经度^2</td>\n",
       "      <td>0.0399077</td>\n",
       "    </tr>\n",
       "    <tr>\n",
       "      <th>11</th>\n",
       "      <td>住户收入中位数 平均房间数目</td>\n",
       "      <td>0.043302</td>\n",
       "    </tr>\n",
       "    <tr>\n",
       "      <th>42</th>\n",
       "      <td>街区的纬度^2</td>\n",
       "      <td>0.0618867</td>\n",
       "    </tr>\n",
       "    <tr>\n",
       "      <th>29</th>\n",
       "      <td>平均房间数目 街区的经度</td>\n",
       "      <td>0.082289</td>\n",
       "    </tr>\n",
       "    <tr>\n",
       "      <th>28</th>\n",
       "      <td>平均房间数目 街区的纬度</td>\n",
       "      <td>0.087509</td>\n",
       "    </tr>\n",
       "    <tr>\n",
       "      <th>43</th>\n",
       "      <td>街区的纬度 街区的经度</td>\n",
       "      <td>0.108107</td>\n",
       "    </tr>\n",
       "    <tr>\n",
       "      <th>30</th>\n",
       "      <td>平均卧室数目^2</td>\n",
       "      <td>0.160181</td>\n",
       "    </tr>\n",
       "    <tr>\n",
       "      <th>6</th>\n",
       "      <td>平均入住率</td>\n",
       "      <td>1.00386</td>\n",
       "    </tr>\n",
       "    <tr>\n",
       "      <th>8</th>\n",
       "      <td>街区的经度</td>\n",
       "      <td>5.88063</td>\n",
       "    </tr>\n",
       "    <tr>\n",
       "      <th>3</th>\n",
       "      <td>平均房间数目</td>\n",
       "      <td>6.44106</td>\n",
       "    </tr>\n",
       "    <tr>\n",
       "      <th>7</th>\n",
       "      <td>街区的纬度</td>\n",
       "      <td>8.70568</td>\n",
       "    </tr>\n",
       "  </tbody>\n",
       "</table>\n",
       "</div>"
      ],
      "text/plain": [
       "             features         coef\n",
       "4              平均卧室数目     -31.5913\n",
       "1             住户收入中位数      -11.243\n",
       "2           房屋使用年代中位数    -0.848899\n",
       "33       平均卧室数目 街区的纬度    -0.437043\n",
       "34       平均卧室数目 街区的经度    -0.404151\n",
       "12     住户收入中位数 平均卧室数目    -0.186142\n",
       "15      住户收入中位数 街区的纬度    -0.152506\n",
       "16      住户收入中位数 街区的经度    -0.144243\n",
       "32       平均卧室数目 平均入住率   -0.0871911\n",
       "25      平均房间数目 平均卧室数目   -0.0689064\n",
       "9           住户收入中位数^2   -0.0313081\n",
       "22    房屋使用年代中位数 街区的纬度    -0.010069\n",
       "23    房屋使用年代中位数 街区的经度   -0.0099995\n",
       "14      住户收入中位数 平均入住率  -0.00259019\n",
       "21    房屋使用年代中位数 平均入住率  -0.00181717\n",
       "18   房屋使用年代中位数 平均房间数目  -0.00126219\n",
       "26        平均房间数目 街区人口 -6.82366e-05\n",
       "35             街区人口^2  2.73779e-09\n",
       "0                   1  5.91955e-08\n",
       "20     房屋使用年代中位数 街区人口  2.81885e-06\n",
       "38         街区人口 街区的经度  1.46568e-05\n",
       "36         街区人口 平均入住率  1.91427e-05\n",
       "37         街区人口 街区的纬度   2.2953e-05\n",
       "13       住户收入中位数 街区人口  5.72831e-05\n",
       "39            平均入住率^2  8.71561e-05\n",
       "17        房屋使用年代中位数^2  0.000211725\n",
       "5                街区人口  0.000406091\n",
       "31        平均卧室数目 街区人口  0.000514264\n",
       "10  住户收入中位数 房屋使用年代中位数   0.00185995\n",
       "24           平均房间数目^2   0.00726948\n",
       "19   房屋使用年代中位数 平均卧室数目    0.0106115\n",
       "41        平均入住率 街区的经度    0.0162413\n",
       "40        平均入住率 街区的纬度    0.0213345\n",
       "27       平均房间数目 平均入住率    0.0268879\n",
       "44            街区的经度^2    0.0399077\n",
       "11     住户收入中位数 平均房间数目     0.043302\n",
       "42            街区的纬度^2    0.0618867\n",
       "29       平均房间数目 街区的经度     0.082289\n",
       "28       平均房间数目 街区的纬度     0.087509\n",
       "43        街区的纬度 街区的经度     0.108107\n",
       "30           平均卧室数目^2     0.160181\n",
       "6               平均入住率      1.00386\n",
       "8               街区的经度      5.88063\n",
       "3              平均房间数目      6.44106\n",
       "7               街区的纬度      8.70568"
      ]
     },
     "execution_count": 69,
     "metadata": {},
     "output_type": "execute_result"
    }
   ],
   "source": [
    "coeff.columns = [\"features\",\"coef\"]\n",
    "coeff.sort_values(by=\"coef\")"
   ]
  },
  {
   "cell_type": "code",
   "execution_count": 71,
   "metadata": {},
   "outputs": [
    {
     "data": {
      "text/plain": [
       "0.6062326851998051"
      ]
     },
     "execution_count": 71,
     "metadata": {},
     "output_type": "execute_result"
    }
   ],
   "source": [
    "#顺便可以查看一下多项式变化之后，模型的拟合效果如何了\n",
    "poly = PolynomialFeatures(degree=4).fit(x,y)\n",
    "x_ = poly.transform(x)\n",
    "reg = LinearRegression().fit(x,y)\n",
    "reg.score(x,y)"
   ]
  },
  {
   "cell_type": "code",
   "execution_count": 73,
   "metadata": {},
   "outputs": [
    {
     "name": "stdout",
     "output_type": "stream",
     "text": [
      "R2:0.7450320290116124\n",
      "time:0.5006594657897949\n"
     ]
    }
   ],
   "source": [
    "from time import time\n",
    "time0 = time()\n",
    "reg_ = LinearRegression().fit(x_,y)\n",
    "print(\"R2:{}\".format(reg_.score(x_,y)))\n",
    "print(\"time:{}\".format(time()-time0))\n"
   ]
  },
  {
   "cell_type": "code",
   "execution_count": 74,
   "metadata": {},
   "outputs": [
    {
     "name": "stdout",
     "output_type": "stream",
     "text": [
      "R2:0.9739731568319011\n",
      "time:10.267538785934448\n"
     ]
    }
   ],
   "source": [
    "#  假如使用其他 模型呢\n",
    "from sklearn.ensemble import RandomForestRegressor as RFR\n",
    "time0 = time()\n",
    "print(\"R2:{}\".format(RFR(n_estimators=100).fit(x,y).score(x,y)))\n",
    "print(\"time:{}\".format(time()-time0))"
   ]
  },
  {
   "cell_type": "code",
   "execution_count": null,
   "metadata": {},
   "outputs": [],
   "source": []
  }
 ],
 "metadata": {
  "kernelspec": {
   "display_name": "Python 3",
   "language": "python",
   "name": "python3"
  },
  "language_info": {
   "codemirror_mode": {
    "name": "ipython",
    "version": 3
   },
   "file_extension": ".py",
   "mimetype": "text/x-python",
   "name": "python",
   "nbconvert_exporter": "python",
   "pygments_lexer": "ipython3",
   "version": "3.7.3"
  },
  "toc": {
   "base_numbering": 1,
   "nav_menu": {},
   "number_sections": true,
   "sideBar": true,
   "skip_h1_title": false,
   "title_cell": "Table of Contents",
   "title_sidebar": "Contents",
   "toc_cell": false,
   "toc_position": {},
   "toc_section_display": true,
   "toc_window_display": false
  }
 },
 "nbformat": 4,
 "nbformat_minor": 2
}
