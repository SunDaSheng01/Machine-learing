{
 "cells": [
  {
   "cell_type": "markdown",
   "metadata": {},
   "source": [
    "#   XGBoost模型调优"
   ]
  },
  {
   "cell_type": "markdown",
   "metadata": {},
   "source": [
    "##  加载要用的库"
   ]
  },
  {
   "cell_type": "code",
   "execution_count": 1,
   "metadata": {},
   "outputs": [],
   "source": [
    "import pandas as pd\n",
    "import numpy as np\n",
    "import xgboost as xgb\n",
    "from xgboost.sklearn import XGBClassifier\n",
    "from sklearn import cross_decomposition,metrics\n",
    "\n",
    "#from sklearn.model_selection import GridSearchCV\n",
    "from sklearn.model_selection import GridSearchCV, cross_val_score\n",
    "import matplotlib.pylab as plt\n",
    "%matplotlib inline\n",
    "from matplotlib.pylab import rcParams\n",
    "\n",
    "rcParams['figure.figsize'] = 12,4"
   ]
  },
  {
   "cell_type": "markdown",
   "metadata": {},
   "source": [
    "###  载入数据"
   ]
  },
  {
   "cell_type": "markdown",
   "metadata": {},
   "source": [
    "## 载入数据\n",
    "\n",
    "上一个ipython notebook已经做了下面这些数据特征预处理\n",
    "1. City因为类别太多丢掉\n",
    "2. DOB生成Age字段，然后丢掉原字段\n",
    "3. EMI_Loan_Submitted_Missing 为1(EMI_Loan_Submitted) 为0(EMI_Loan_Submitted缺省) EMI_Loan_Submitted丢掉\n",
    "4. EmployerName丢掉\n",
    "5. Existing_EMI对缺省值用均值填充\n",
    "6. Interest_Rate_Missing同 EMI_Loan_Submitted\n",
    "7. Lead_Creation_Date丢掉\n",
    "8. Loan_Amount_Applied, Loan_Tenure_Applied 均值填充\n",
    "9. Loan_Amount_Submitted_Missing 同 EMI_Loan_Submitted \n",
    "10. Loan_Tenure_Submitted_Missing 同 EMI_Loan_Submitted\n",
    "11. LoggedIn, Salary_Account 丢掉\n",
    "12. Processing_Fee_Missing 同 EMI_Loan_Submitted\n",
    "13. Source - top 2 kept as is and all others combined into different category\n",
    "14. Numerical变化 和 One-Hot编码"
   ]
  },
  {
   "cell_type": "code",
   "execution_count": 2,
   "metadata": {},
   "outputs": [
    {
     "data": {
      "text/plain": [
       "((87020, 51), (37717, 50))"
      ]
     },
     "execution_count": 2,
     "metadata": {},
     "output_type": "execute_result"
    }
   ],
   "source": [
    "train = pd.read_csv(\"train_modified.csv\")\n",
    "test = pd.read_csv(\"test_modified.csv\")\n",
    "train.shape, test.shape"
   ]
  },
  {
   "cell_type": "code",
   "execution_count": 3,
   "metadata": {},
   "outputs": [],
   "source": [
    "target = \"Disbursed\"\n",
    "IDcol = \"ID\"\n"
   ]
  },
  {
   "cell_type": "code",
   "execution_count": null,
   "metadata": {},
   "outputs": [],
   "source": [
    "# train['Disbursed'].value_counts()"
   ]
  },
  {
   "cell_type": "markdown",
   "metadata": {},
   "source": [
    "## 建模与交叉验证\n",
    "\n",
    "写一个大的函数完成以下的功能\n",
    "1. 数据建模\n",
    "2. 求训练准确率\n",
    "3. 求训练集AUC\n",
    "4. 根据xgboost交叉验证更新n_estimators\n",
    "5. 画出特征的重要度 "
   ]
  },
  {
   "cell_type": "code",
   "execution_count": null,
   "metadata": {},
   "outputs": [],
   "source": [
    "def modelfit(alg, dtrain, dtest, predicts, useTrainCV=True, cv_folds=5, early_stopping_rounds=50):\n",
    "    if useTrainCV:\n",
    "        xgb_param = alg.get_xgb_params()\n",
    "        xgtrain = xgb.DMatrix(dtrain[predicts].values,label=dtrain[target].values)\n",
    "        xgtest = xgb.DMatrix(dtest[predicts].values)\n",
    "        cvresult = xgb.cv(xgb_param, xgtrain, num_boost_round=alg.get_xgb_params()['n_estimators'], \n",
    "                          nfold=cv_folds,early_stopping_rounds=early_stopping_rounds\n",
    "                         )\n",
    "        alg.set_params(n_estimators = cvresult.shape[0])\n",
    "        \n",
    "        \n",
    "    # 建立模型\n",
    "    alg.fit(dtrain[predicts], dtrain[\"Disbursed\"],eval_metric='auc')\n",
    "    \n",
    "    # 对训练集进行预测\n",
    "    dtrain_predicitions = alg.predict(dtrain[predictors])\n",
    "    dtrain_predprob = alg.predict_proba(dtrain[predictors])[:,1]\n",
    "        \n",
    "    # 输出模型的一些结果\n",
    "    print(\"\\n 关于这个模型\")\n",
    "    print(\"准确率: %.4g\" % metrics.accuracy_score(dtrain['Disbursed'].values, dtrain_predicitions))\n",
    "    print(\"AUC 得分为(训练集是)：%f\" % metrics.roc_auc_score(dtrain['Disbursed'], dtrain_predprob))\n",
    "    \n",
    "    \n",
    "    # print(\"******\",alg.get_booster())\n",
    "    # print(\"----\",pd.Series(alg.get_booster().get_fscore()))\n",
    "    feat_imp = pd.Series(alg.get_booster().get_fscore()).sort_values(ascending=False)\n",
    "    feat_imp = pd.Series(alg.get_booster().get_fscore()).sort_values(ascending=False)\n",
    "    feat_imp.plot(kind='bar', title='Feature Importances')\n",
    "    plt.ylabel('Feature Importance score')\n",
    "    \n",
    "\n",
    "    "
   ]
  },
  {
   "cell_type": "markdown",
   "metadata": {},
   "source": [
    "##  第一步- 对于高的学习率找到最合适的 estimators个数"
   ]
  },
  {
   "cell_type": "code",
   "execution_count": null,
   "metadata": {},
   "outputs": [
    {
     "name": "stdout",
     "output_type": "stream",
     "text": [
      "\n",
      " 关于这个模型\n",
      "准确率: 0.9854\n",
      "AUC 得分为(训练集是)：0.829632\n"
     ]
    },
    {
     "data": {
      "image/png": "[encoded data removed]",
      "text/plain": [
       "<Figure size 432x288 with 1 Axes>"
      ]
     },
     "metadata": {
      "needs_background": "light"
     },
     "output_type": "display_data"
    }
   ],
   "source": [
    "predictors = [x  for x in train.columns if x  not in [target, IDcol]]\n",
    "xgb1 = XGBClassifier(learning_rate=0.1,\n",
    "                     n_estimators=10,\n",
    "                     max_depth=5,\n",
    "                     min_child_weight=1,\n",
    "                     gamma=0,\n",
    "                     subsample=0.8,\n",
    "                     objective='binary:logistic',\n",
    "                     nthread=4,\n",
    "                     scale_pos_weight=1,\n",
    "                     seed=27\n",
    "                    )\n",
    "modelfit(xgb1, train, test, predictors)"
   ]
  },
  {
   "cell_type": "markdown",
   "metadata": {},
   "source": [
    "## 对subsample 和 max_features 用grid search查找最好的参数\n"
   ]
  },
  {
   "cell_type": "code",
   "execution_count": null,
   "metadata": {},
   "outputs": [],
   "source": [
    "param_test1 = {\n",
    "    'max_depth':range(3,10,2),\n",
    "    'min_chil_weight':range(1,6,2)\n",
    "}\n",
    "gsearch1 = GridSearchCV(estimator=XGBClassifier(learning_rate=0.1,n_estimators=140,\n",
    "                                               max_depth=5, min_child_weight=1,\n",
    "                                               gamma=0, subsample=0.8,colsample_bytree=0.8,\n",
    "                                               objective='binary:logistic',nthread=4,\n",
    "                                               scale_pos_weight1=1,seed=27),\n",
    "                       param_grid=param_test1, scoring=\"roc_auc\", n_jobs=4, iid=False, cv=5)\n",
    "gsearch1.fit(train[predictors], train[target])"
   ]
  },
  {
   "cell_type": "code",
   "execution_count": null,
   "metadata": {},
   "outputs": [],
   "source": [
    "gsearch1.grid"
   ]
  },
  {
   "cell_type": "code",
   "execution_count": null,
   "metadata": {},
   "outputs": [],
   "source": []
  },
  {
   "cell_type": "code",
   "execution_count": null,
   "metadata": {},
   "outputs": [],
   "source": []
  }
 ],
 "metadata": {
  "kernelspec": {
   "display_name": "Python 3",
   "language": "python",
   "name": "python3"
  },
  "language_info": {
   "codemirror_mode": {
    "name": "ipython",
    "version": 3
   },
   "file_extension": ".py",
   "mimetype": "text/x-python",
   "name": "python",
   "nbconvert_exporter": "python",
   "pygments_lexer": "ipython3",
   "version": "3.7.3"
  }
 },
 "nbformat": 4,
 "nbformat_minor": 2
}
