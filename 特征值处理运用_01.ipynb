{
 "cells": [
  {
   "cell_type": "markdown",
   "metadata": {},
   "source": [
    "#   XGBoost模型调优"
   ]
  },
  {
   "cell_type": "markdown",
   "metadata": {},
   "source": [
    "##  加载要用的库"
   ]
  },
  {
   "cell_type": "code",
   "execution_count": 10,
   "metadata": {},
   "outputs": [],
   "source": [
    "import pandas as pd\n",
    "import numpy as np\n",
    "import xgboost as xgb\n",
    "from xgboost.sklearn import XGBClassifier\n",
    "from sklearn import cross_decomposition,metrics\n",
    "\n",
    "#from sklearn.model_selection import GridSearchCV\n",
    "from sklearn.model_selection import GridSearchCV, cross_val_score\n",
    "import matplotlib.pylab as plt\n",
    "%matplotlib inline\n",
    "from matplotlib.pylab import rcParams\n",
    "\n",
    "rcParams['figure.figsize'] = 12,4"
   ]
  },
  {
   "cell_type": "markdown",
   "metadata": {},
   "source": [
    "###  载入数据"
   ]
  },
  {
   "cell_type": "markdown",
   "metadata": {},
   "source": [
    "## 载入数据\n",
    "\n",
    "上一个ipython notebook已经做了下面这些数据特征预处理\n",
    "1. City因为类别太多丢掉\n",
    "2. DOB生成Age字段，然后丢掉原字段\n",
    "3. EMI_Loan_Submitted_Missing 为1(EMI_Loan_Submitted) 为0(EMI_Loan_Submitted缺省) EMI_Loan_Submitted丢掉\n",
    "4. EmployerName丢掉\n",
    "5. Existing_EMI对缺省值用均值填充\n",
    "6. Interest_Rate_Missing同 EMI_Loan_Submitted\n",
    "7. Lead_Creation_Date丢掉\n",
    "8. Loan_Amount_Applied, Loan_Tenure_Applied 均值填充\n",
    "9. Loan_Amount_Submitted_Missing 同 EMI_Loan_Submitted \n",
    "10. Loan_Tenure_Submitted_Missing 同 EMI_Loan_Submitted\n",
    "11. LoggedIn, Salary_Account 丢掉\n",
    "12. Processing_Fee_Missing 同 EMI_Loan_Submitted\n",
    "13. Source - top 2 kept as is and all others combined into different category\n",
    "14. Numerical变化 和 One-Hot编码"
   ]
  },
  {
   "cell_type": "code",
   "execution_count": 11,
   "metadata": {},
   "outputs": [
    {
     "data": {
      "text/plain": [
       "((87020, 51), (37717, 50))"
      ]
     },
     "execution_count": 11,
     "metadata": {},
     "output_type": "execute_result"
    }
   ],
   "source": [
    "train = pd.read_csv(\"train_modified.csv\")\n",
    "test = pd.read_csv(\"test_modified.csv\")\n",
    "train.shape, test.shape"
   ]
  },
  {
   "cell_type": "code",
   "execution_count": 12,
   "metadata": {},
   "outputs": [],
   "source": [
    "target = \"Disbursed\"\n",
    "IDcol = \"ID\"\n"
   ]
  },
  {
   "cell_type": "code",
   "execution_count": 13,
   "metadata": {},
   "outputs": [
    {
     "data": {
      "text/plain": [
       "0.0    85747\n",
       "1.0     1273\n",
       "Name: Disbursed, dtype: int64"
      ]
     },
     "execution_count": 13,
     "metadata": {},
     "output_type": "execute_result"
    }
   ],
   "source": [
    "train['Disbursed'].value_counts()"
   ]
  },
  {
   "cell_type": "markdown",
   "metadata": {},
   "source": [
    "## 建模与交叉验证\n",
    "\n",
    "写一个大的函数完成以下的功能\n",
    "1. 数据建模\n",
    "2. 求训练准确率\n",
    "3. 求训练集AUC\n",
    "4. 根据xgboost交叉验证更新n_estimators\n",
    "5. 画出特征的重要度 "
   ]
  },
  {
   "cell_type": "code",
   "execution_count": 14,
   "metadata": {},
   "outputs": [],
   "source": [
    "def modelfit(alg, dtrain, dtest, predicts, useTrainCV=True, cv_folds=5, early_stopping_rounds=50):\n",
    "    if useTrainCV:\n",
    "        xgb_param = alg.get_xgb_params()\n",
    "        xgtrain = xgb.DMatrix(dtrain[predicts].values,label=dtrain[target].values)\n",
    "        xgtest = xgb.DMatrix(dtest[predicts].values)\n",
    "        cvresult = xgb.cv(xgb_param, xgtrain, num_boost_round=alg.get_xgb_params()['n_estimators'], \n",
    "                          nfold=cv_folds,early_stopping_rounds=early_stopping_rounds\n",
    "                         )\n",
    "        alg.set_params(n_estimators = cvresult.shape[0])\n",
    "        \n",
    "        \n",
    "    # 建立模型\n",
    "    alg.fit(dtrain[predicts], dtrain[\"Disbursed\"],eval_metric='auc')\n",
    "    \n",
    "    # 对训练集进行预测\n",
    "    dtrain_predicitions = alg.predict(dtrain[predictors])\n",
    "    dtrain_predprob = alg.predict_proba(dtrain[predictors])[:,1]\n",
    "        \n",
    "    # 输出模型的一些结果\n",
    "    print(\"\\n 关于这个模型\")\n",
    "    print(\"准确率: %.4g\" % metrics.accuracy_score(dtrain['Disbursed'].values, dtrain_predicitions))\n",
    "    print(\"AUC 得分为(训练集是)：%f\" % metrics.roc_auc_score(dtrain['Disbursed'], dtrain_predprob))\n",
    "    \n",
    "    \n",
    "    # print(\"******\",alg.get_booster())\n",
    "    # print(\"----\",pd.Series(alg.get_booster().get_fscore()))\n",
    "    feat_imp = pd.Series(alg.get_booster().get_fscore()).sort_values(ascending=False)\n",
    "    feat_imp = pd.Series(alg.get_booster().get_fscore()).sort_values(ascending=False)\n",
    "    feat_imp.plot(kind='bar', title='Feature Importances')\n",
    "    plt.ylabel('Feature Importance score')\n",
    "    \n",
    "\n",
    "    "
   ]
  },
  {
   "cell_type": "markdown",
   "metadata": {},
   "source": [
    "##  第一步- 对于高的学习率找到最合适的 estimators个数"
   ]
  },
  {
   "cell_type": "code",
   "execution_count": 15,
   "metadata": {},
   "outputs": [
    {
     "name": "stdout",
     "output_type": "stream",
     "text": [
      "\n",
      " 关于这个模型\n",
      "准确率: 0.9854\n",
      "AUC 得分为(训练集是)：0.829632\n"
     ]
    },
    {
     "data": {
      "image/png": "[encoded data removed]",
      "text/plain": [
       "<Figure size 864x288 with 1 Axes>"
      ]
     },
     "metadata": {
      "needs_background": "light"
     },
     "output_type": "display_data"
    }
   ],
   "source": [
    "predictors = [x  for x in train.columns if x  not in [target, IDcol]]\n",
    "xgb1 = XGBClassifier(learning_rate=0.1,\n",
    "                     n_estimators=10,\n",
    "                     max_depth=5,\n",
    "                     min_child_weight=1,\n",
    "                     gamma=0,\n",
    "                     subsample=0.8,\n",
    "                     objective='binary:logistic',\n",
    "                     nthread=4,\n",
    "                     scale_pos_weight=1,\n",
    "                     seed=27\n",
    "                    )\n",
    "modelfit(xgb1, train, test, predictors)"
   ]
  },
  {
   "cell_type": "markdown",
   "metadata": {},
   "source": [
    "## 对subsample 和 max_features 用grid search查找最好的参数\n"
   ]
  },
  {
   "cell_type": "code",
   "execution_count": 16,
   "metadata": {},
   "outputs": [
    {
     "data": {
      "text/plain": [
       "GridSearchCV(cv=5, error_score='raise-deprecating',\n",
       "       estimator=XGBClassifier(base_score=0.5, booster='gbtree', colsample_bylevel=1,\n",
       "       colsample_bynode=1, colsample_bytree=0.8, gamma=0,\n",
       "       learning_rate=0.1, max_delta_step=0, max_depth=5,\n",
       "       min_child_weight=1, missing=None, n_estimators=140, n_jobs=1,\n",
       "       nthread=4, objective='binary:logistic', random_state=0, reg_alpha=0,\n",
       "       reg_lambda=1, scale_pos_weight=1, scale_pos_weight1=1, seed=27,\n",
       "       silent=None, subsample=0.8, verbosity=1),\n",
       "       fit_params=None, iid=False, n_jobs=4,\n",
       "       param_grid={'max_depth': range(3, 10, 2), 'min_chil_weight': range(1, 6, 2)},\n",
       "       pre_dispatch='2*n_jobs', refit=True, return_train_score='warn',\n",
       "       scoring='roc_auc', verbose=0)"
      ]
     },
     "execution_count": 16,
     "metadata": {},
     "output_type": "execute_result"
    }
   ],
   "source": [
    "param_test1 = {\n",
    "    'max_depth':range(3,10,2),\n",
    "    'min_chil_weight':range(1,6,2)\n",
    "}\n",
    "gsearch1 = GridSearchCV(estimator=XGBClassifier(learning_rate=0.1,n_estimators=140,\n",
    "                                               max_depth=5, min_child_weight=1,\n",
    "                                               gamma=0, subsample=0.8,colsample_bytree=0.8,\n",
    "                                               objective='binary:logistic',nthread=4,\n",
    "                                               scale_pos_weight1=1,seed=27),\n",
    "                       param_grid=param_test1, scoring=\"roc_auc\", n_jobs=4, iid=False, cv=5)\n",
    "gsearch1.fit(train[predictors], train[target])"
   ]
  },
  {
   "cell_type": "code",
   "execution_count": 18,
   "metadata": {},
   "outputs": [
    {
     "name": "stderr",
     "output_type": "stream",
     "text": [
      "C:\\ProgramData\\Anaconda3\\lib\\site-packages\\sklearn\\utils\\deprecation.py:125: FutureWarning: You are accessing a training score ('split0_train_score'), which will not be available by default any more in 0.21. If you need training scores, please set return_train_score=True\n",
      "  warnings.warn(*warn_args, **warn_kwargs)\n",
      "C:\\ProgramData\\Anaconda3\\lib\\site-packages\\sklearn\\utils\\deprecation.py:125: FutureWarning: You are accessing a training score ('split1_train_score'), which will not be available by default any more in 0.21. If you need training scores, please set return_train_score=True\n",
      "  warnings.warn(*warn_args, **warn_kwargs)\n",
      "C:\\ProgramData\\Anaconda3\\lib\\site-packages\\sklearn\\utils\\deprecation.py:125: FutureWarning: You are accessing a training score ('split2_train_score'), which will not be available by default any more in 0.21. If you need training scores, please set return_train_score=True\n",
      "  warnings.warn(*warn_args, **warn_kwargs)\n",
      "C:\\ProgramData\\Anaconda3\\lib\\site-packages\\sklearn\\utils\\deprecation.py:125: FutureWarning: You are accessing a training score ('split3_train_score'), which will not be available by default any more in 0.21. If you need training scores, please set return_train_score=True\n",
      "  warnings.warn(*warn_args, **warn_kwargs)\n",
      "C:\\ProgramData\\Anaconda3\\lib\\site-packages\\sklearn\\utils\\deprecation.py:125: FutureWarning: You are accessing a training score ('split4_train_score'), which will not be available by default any more in 0.21. If you need training scores, please set return_train_score=True\n",
      "  warnings.warn(*warn_args, **warn_kwargs)\n",
      "C:\\ProgramData\\Anaconda3\\lib\\site-packages\\sklearn\\utils\\deprecation.py:125: FutureWarning: You are accessing a training score ('mean_train_score'), which will not be available by default any more in 0.21. If you need training scores, please set return_train_score=True\n",
      "  warnings.warn(*warn_args, **warn_kwargs)\n",
      "C:\\ProgramData\\Anaconda3\\lib\\site-packages\\sklearn\\utils\\deprecation.py:125: FutureWarning: You are accessing a training score ('std_train_score'), which will not be available by default any more in 0.21. If you need training scores, please set return_train_score=True\n",
      "  warnings.warn(*warn_args, **warn_kwargs)\n"
     ]
    },
    {
     "data": {
      "text/plain": [
       "{'mean_fit_time': array([13.94528866, 14.20519099, 14.26303606, 19.35860214, 19.45374756,\n",
       "        21.34121423, 27.44420667, 28.25499763, 55.63354187, 92.54254942,\n",
       "        80.19029932, 74.17298756]),\n",
       " 'std_fit_time': array([ 0.43723615,  0.31690898,  0.59444953,  0.87659578,  1.33140525,\n",
       "         1.28617174,  1.59336827,  2.07254666, 13.83326545,  8.69187851,\n",
       "         1.7001429 ,  0.77023596]),\n",
       " 'mean_score_time': array([0.09215121, 0.08656859, 0.09534531, 0.09195409, 0.10890889,\n",
       "        0.11588964, 0.13703318, 0.12586403, 0.17533069, 0.17094264,\n",
       "        0.16815014, 0.1681807 ]),\n",
       " 'std_score_time': array([0.01246429, 0.0093856 , 0.01757812, 0.00632044, 0.01447212,\n",
       "        0.0129936 , 0.03315399, 0.01037164, 0.02912083, 0.01601478,\n",
       "        0.01906588, 0.01782963]),\n",
       " 'param_max_depth': masked_array(data=[3, 3, 3, 5, 5, 5, 7, 7, 7, 9, 9, 9],\n",
       "              mask=[False, False, False, False, False, False, False, False,\n",
       "                    False, False, False, False],\n",
       "        fill_value='?',\n",
       "             dtype=object),\n",
       " 'param_min_chil_weight': masked_array(data=[1, 3, 5, 1, 3, 5, 1, 3, 5, 1, 3, 5],\n",
       "              mask=[False, False, False, False, False, False, False, False,\n",
       "                    False, False, False, False],\n",
       "        fill_value='?',\n",
       "             dtype=object),\n",
       " 'params': [{'max_depth': 3, 'min_chil_weight': 1},\n",
       "  {'max_depth': 3, 'min_chil_weight': 3},\n",
       "  {'max_depth': 3, 'min_chil_weight': 5},\n",
       "  {'max_depth': 5, 'min_chil_weight': 1},\n",
       "  {'max_depth': 5, 'min_chil_weight': 3},\n",
       "  {'max_depth': 5, 'min_chil_weight': 5},\n",
       "  {'max_depth': 7, 'min_chil_weight': 1},\n",
       "  {'max_depth': 7, 'min_chil_weight': 3},\n",
       "  {'max_depth': 7, 'min_chil_weight': 5},\n",
       "  {'max_depth': 9, 'min_chil_weight': 1},\n",
       "  {'max_depth': 9, 'min_chil_weight': 3},\n",
       "  {'max_depth': 9, 'min_chil_weight': 5}],\n",
       " 'split0_test_score': array([0.82293477, 0.82293477, 0.82293477, 0.83469811, 0.83469811,\n",
       "        0.83469811, 0.82282662, 0.82282662, 0.82282662, 0.81909427,\n",
       "        0.81909427, 0.81909427]),\n",
       " 'split1_test_score': array([0.82429623, 0.82429623, 0.82429623, 0.82892814, 0.82892814,\n",
       "        0.82892814, 0.83435751, 0.83435751, 0.83435751, 0.82568582,\n",
       "        0.82568582, 0.82568582]),\n",
       " 'split2_test_score': array([0.84315886, 0.84315886, 0.84315886, 0.84977458, 0.84977458,\n",
       "        0.84977458, 0.83853903, 0.83853903, 0.83853903, 0.83154085,\n",
       "        0.83154085, 0.83154085]),\n",
       " 'split3_test_score': array([0.84973619, 0.84973619, 0.84973619, 0.85068251, 0.85068251,\n",
       "        0.85068251, 0.84085652, 0.84085652, 0.84085652, 0.83112488,\n",
       "        0.83112488, 0.83112488]),\n",
       " 'split4_test_score': array([0.84556157, 0.84556157, 0.84556157, 0.84013519, 0.84013519,\n",
       "        0.84013519, 0.83488431, 0.83488431, 0.83488431, 0.82922916,\n",
       "        0.82922916, 0.82922916]),\n",
       " 'mean_test_score': array([0.83713753, 0.83713753, 0.83713753, 0.84084371, 0.84084371,\n",
       "        0.84084371, 0.8342928 , 0.8342928 , 0.8342928 , 0.827335  ,\n",
       "        0.827335  , 0.827335  ]),\n",
       " 'std_test_score': array([0.0112478 , 0.0112478 , 0.0112478 , 0.00844765, 0.00844765,\n",
       "        0.00844765, 0.00621193, 0.00621193, 0.00621193, 0.0046102 ,\n",
       "        0.0046102 , 0.0046102 ]),\n",
       " 'rank_test_score': array([ 4,  4,  4,  1,  1,  1,  7,  7,  7, 10, 10, 10]),\n",
       " 'split0_train_score': array([0.8662733 , 0.8662733 , 0.8662733 , 0.90810354, 0.90810354,\n",
       "        0.90810354, 0.95391173, 0.95391173, 0.95391173, 0.98111551,\n",
       "        0.98111551, 0.98111551]),\n",
       " 'split1_train_score': array([0.8663487 , 0.8663487 , 0.8663487 , 0.90841904, 0.90841904,\n",
       "        0.90841904, 0.95007959, 0.95007959, 0.95007959, 0.97982032,\n",
       "        0.97982032, 0.97982032]),\n",
       " 'split2_train_score': array([0.86347946, 0.86347946, 0.86347946, 0.90748628, 0.90748628,\n",
       "        0.90748628, 0.95256341, 0.95256341, 0.95256341, 0.98057599,\n",
       "        0.98057599, 0.98057599]),\n",
       " 'split3_train_score': array([0.86471033, 0.86471033, 0.86471033, 0.90905282, 0.90905282,\n",
       "        0.90905282, 0.95249563, 0.95249563, 0.95249563, 0.98167257,\n",
       "        0.98167257, 0.98167257]),\n",
       " 'split4_train_score': array([0.86633622, 0.86633622, 0.86633622, 0.91437311, 0.91437311,\n",
       "        0.91437311, 0.95477239, 0.95477239, 0.95477239, 0.98306865,\n",
       "        0.98306865, 0.98306865]),\n",
       " 'mean_train_score': array([0.8654296 , 0.8654296 , 0.8654296 , 0.90948696, 0.90948696,\n",
       "        0.90948696, 0.95276455, 0.95276455, 0.95276455, 0.98125061,\n",
       "        0.98125061, 0.98125061]),\n",
       " 'std_train_score': array([0.00115749, 0.00115749, 0.00115749, 0.00249479, 0.00249479,\n",
       "        0.00249479, 0.00159181, 0.00159181, 0.00159181, 0.00109566,\n",
       "        0.00109566, 0.00109566])}"
      ]
     },
     "execution_count": 18,
     "metadata": {},
     "output_type": "execute_result"
    }
   ],
   "source": [
    "gsearch1.cv_results_"
   ]
  },
  {
   "cell_type": "code",
   "execution_count": 22,
   "metadata": {},
   "outputs": [
    {
     "data": {
      "text/plain": [
       "Text(87.0, 0.5, 'max_depth')"
      ]
     },
     "execution_count": 22,
     "metadata": {},
     "output_type": "execute_result"
    },
    {
     "data": {
      "image/png": "[encoded data removed]",
      "text/plain": [
       "<Figure size 864x288 with 2 Axes>"
      ]
     },
     "metadata": {
      "needs_background": "light"
     },
     "output_type": "display_data"
    }
   ],
   "source": [
    "import seaborn as sb\n",
    "grid_visualization = []\n",
    "for grid_pair in gsearch1.cv_results_[\"mean_test_score\"]:\n",
    "    grid_visualization.append(grid_pair)\n",
    "grid_visualization = np.array(grid_visualization)\n",
    "grid_visualization.shape = (3,4)\n",
    "sb.heatmap(grid_visualization, cmap='Blues')\n",
    "plt.xticks(np.arange(4)+0.5, gsearch1.param_grid[\"max_depth\"])\n",
    "plt.yticks(np.arange(5)+0.5, gsearch1.param_grid[\"min_chil_weight\"][::-1])\n",
    "plt.xlabel(\"max_features\")\n",
    "plt.ylabel(\"max_depth\")"
   ]
  },
  {
   "cell_type": "markdown",
   "metadata": {},
   "source": [
    "##  对正则化做交叉验证"
   ]
  },
  {
   "cell_type": "code",
   "execution_count": 26,
   "metadata": {},
   "outputs": [
    {
     "data": {
      "text/plain": [
       "GridSearchCV(cv=5, error_score='raise-deprecating',\n",
       "       estimator=XGBClassifier(base_score=0.5, booster='gbtree', colsample_bylevel=1,\n",
       "       colsample_bynode=1, colsample_bytree=0.8, gamma=0.1,\n",
       "       learning_rate=0.1, max_delta_step=0, max_depth=4,\n",
       "       min_child_weight=6, missing=None, n_estimators=177, n_jobs=1,\n",
       "       nthread=4, objective='binary:logistic', random_state=0, reg_alpha=0,\n",
       "       reg_lambda=1, scale_pos_weight=1, seed=27, silent=None,\n",
       "       subsample=0.8, verbosity=1),\n",
       "       fit_params=None, iid=False, n_jobs=4,\n",
       "       param_grid={'reg_alpha': [1e-05, 0.01, 0.1, 1, 100]},\n",
       "       pre_dispatch='2*n_jobs', refit=True, return_train_score='warn',\n",
       "       scoring='roc_auc', verbose=0)"
      ]
     },
     "execution_count": 26,
     "metadata": {},
     "output_type": "execute_result"
    }
   ],
   "source": [
    "#  对reg_alpha用grid search寻找最合适的参数\n",
    "param_test6 = {\n",
    "    'reg_alpha':[1e-5, 1e-2, 0.1, 1,100]\n",
    "}\n",
    "gsearch6 = GridSearchCV(estimator=XGBClassifier(learning_rate=0.1,n_estimators=177, max_depth=4,\n",
    "                                               min_child_weight=6, gamma=.1, subsample=0.8, colsample_bytree=0.8,\n",
    "                                               objective='binary:logistic', nthread=4,scale_pos_weight=1, seed=27),\n",
    "                       param_grid = param_test6, scoring='roc_auc', n_jobs=4, iid=False, cv=5)\n",
    "gsearch6.fit(train[predictors], train[target])\n"
   ]
  },
  {
   "cell_type": "code",
   "execution_count": 27,
   "metadata": {},
   "outputs": [
    {
     "name": "stderr",
     "output_type": "stream",
     "text": [
      "C:\\ProgramData\\Anaconda3\\lib\\site-packages\\sklearn\\utils\\deprecation.py:125: FutureWarning: You are accessing a training score ('split0_train_score'), which will not be available by default any more in 0.21. If you need training scores, please set return_train_score=True\n",
      "  warnings.warn(*warn_args, **warn_kwargs)\n",
      "C:\\ProgramData\\Anaconda3\\lib\\site-packages\\sklearn\\utils\\deprecation.py:125: FutureWarning: You are accessing a training score ('split1_train_score'), which will not be available by default any more in 0.21. If you need training scores, please set return_train_score=True\n",
      "  warnings.warn(*warn_args, **warn_kwargs)\n",
      "C:\\ProgramData\\Anaconda3\\lib\\site-packages\\sklearn\\utils\\deprecation.py:125: FutureWarning: You are accessing a training score ('split2_train_score'), which will not be available by default any more in 0.21. If you need training scores, please set return_train_score=True\n",
      "  warnings.warn(*warn_args, **warn_kwargs)\n",
      "C:\\ProgramData\\Anaconda3\\lib\\site-packages\\sklearn\\utils\\deprecation.py:125: FutureWarning: You are accessing a training score ('split3_train_score'), which will not be available by default any more in 0.21. If you need training scores, please set return_train_score=True\n",
      "  warnings.warn(*warn_args, **warn_kwargs)\n",
      "C:\\ProgramData\\Anaconda3\\lib\\site-packages\\sklearn\\utils\\deprecation.py:125: FutureWarning: You are accessing a training score ('split4_train_score'), which will not be available by default any more in 0.21. If you need training scores, please set return_train_score=True\n",
      "  warnings.warn(*warn_args, **warn_kwargs)\n",
      "C:\\ProgramData\\Anaconda3\\lib\\site-packages\\sklearn\\utils\\deprecation.py:125: FutureWarning: You are accessing a training score ('mean_train_score'), which will not be available by default any more in 0.21. If you need training scores, please set return_train_score=True\n",
      "  warnings.warn(*warn_args, **warn_kwargs)\n",
      "C:\\ProgramData\\Anaconda3\\lib\\site-packages\\sklearn\\utils\\deprecation.py:125: FutureWarning: You are accessing a training score ('std_train_score'), which will not be available by default any more in 0.21. If you need training scores, please set return_train_score=True\n",
      "  warnings.warn(*warn_args, **warn_kwargs)\n"
     ]
    },
    {
     "data": {
      "text/plain": [
       "{'mean_fit_time': array([23.9844841 , 27.00375128, 23.06024952, 21.64102912, 16.91169887]),\n",
       " 'std_fit_time': array([1.95166406, 1.35659549, 1.6130935 , 0.27579064, 4.87514195]),\n",
       " 'mean_score_time': array([0.13244467, 0.12187419, 0.13164778, 0.1071135 , 0.07560868]),\n",
       " 'std_score_time': array([0.02510656, 0.0205985 , 0.03258699, 0.00949475, 0.01889903]),\n",
       " 'param_reg_alpha': masked_array(data=[1e-05, 0.01, 0.1, 1, 100],\n",
       "              mask=[False, False, False, False, False],\n",
       "        fill_value='?',\n",
       "             dtype=object),\n",
       " 'params': [{'reg_alpha': 1e-05},\n",
       "  {'reg_alpha': 0.01},\n",
       "  {'reg_alpha': 0.1},\n",
       "  {'reg_alpha': 1},\n",
       "  {'reg_alpha': 100}],\n",
       " 'split0_test_score': array([0.82847047, 0.83142789, 0.83155079, 0.83111599, 0.79311027]),\n",
       " 'split1_test_score': array([0.83516081, 0.83573658, 0.83729572, 0.83873504, 0.79580598]),\n",
       " 'split2_test_score': array([0.84999148, 0.8514884 , 0.84936457, 0.84838652, 0.82043577]),\n",
       " 'split3_test_score': array([0.84577577, 0.84667502, 0.84730349, 0.84759998, 0.83334914]),\n",
       " 'split4_test_score': array([0.84108081, 0.839779  , 0.84115715, 0.83850164, 0.8207579 ]),\n",
       " 'mean_test_score': array([0.84009587, 0.84102138, 0.84133434, 0.84086783, 0.81269181]),\n",
       " 'std_test_score': array([0.00762442, 0.007253  , 0.00651421, 0.00643582, 0.01562257]),\n",
       " 'rank_test_score': array([4, 2, 1, 3, 5]),\n",
       " 'split0_train_score': array([0.89033346, 0.89038802, 0.88982953, 0.89073464, 0.82499919]),\n",
       " 'split1_train_score': array([0.88924373, 0.88894613, 0.89002888, 0.88841058, 0.82171951]),\n",
       " 'split2_train_score': array([0.88893352, 0.88814775, 0.88890107, 0.88637529, 0.81923005]),\n",
       " 'split3_train_score': array([0.89026941, 0.89169514, 0.8897853 , 0.88955862, 0.81805698]),\n",
       " 'split4_train_score': array([0.89220516, 0.89253636, 0.89245501, 0.89118088, 0.82218273]),\n",
       " 'mean_train_score': array([0.89019706, 0.89034268, 0.89019996, 0.889252  , 0.82123769]),\n",
       " 'std_train_score': array([0.00114557, 0.00163777, 0.00119254, 0.00173183, 0.00242577])}"
      ]
     },
     "execution_count": 27,
     "metadata": {},
     "output_type": "execute_result"
    }
   ],
   "source": [
    "gsearch6.cv_results_"
   ]
  },
  {
   "cell_type": "markdown",
   "metadata": {},
   "source": [
    "#### 换一组参数对reg_alpha用grid search寻找最合适的参数"
   ]
  },
  {
   "cell_type": "code",
   "execution_count": 28,
   "metadata": {},
   "outputs": [
    {
     "data": {
      "text/plain": [
       "GridSearchCV(cv=5, error_score='raise-deprecating',\n",
       "       estimator=XGBClassifier(base_score=0.5, booster='gbtree', colsample_bylevel=1,\n",
       "       colsample_bynode=1, colsample_bytree=0.8, gamma=0.1,\n",
       "       learning_rate=0.1, max_delta_step=0, max_depth=4,\n",
       "       min_child_weight=6, missing=None, n_estimators=177, n_jobs=1,\n",
       "       nthread=4, objective='binary:logistic', random_state=0, reg_alpha=0,\n",
       "       reg_lambda=1, scale_pos_weight=1, seed=27, silent=None,\n",
       "       subsample=0.8, verbosity=1),\n",
       "       fit_params=None, iid=False, n_jobs=4,\n",
       "       param_grid={'reg_alpha': [0, 0.001, 0.005, 0.01, 0.05]},\n",
       "       pre_dispatch='2*n_jobs', refit=True, return_train_score='warn',\n",
       "       scoring='roc_auc', verbose=0)"
      ]
     },
     "execution_count": 28,
     "metadata": {},
     "output_type": "execute_result"
    }
   ],
   "source": [
    "param_test7 = {\n",
    "    'reg_alpha':[0, 0.001, 0.005, 0.01, 0.05]\n",
    "}\n",
    "gsearch7 = GridSearchCV(estimator = XGBClassifier( learning_rate =0.1, n_estimators=177, max_depth=4,\n",
    "                                        min_child_weight=6, gamma=0.1, subsample=0.8, colsample_bytree=0.8,\n",
    "                                        objective= 'binary:logistic', nthread=4, scale_pos_weight=1,seed=27), \n",
    "                       param_grid = param_test7, scoring='roc_auc',n_jobs=4,iid=False, cv=5)\n",
    "gsearch7.fit(train[predictors],train[target])"
   ]
  },
  {
   "cell_type": "code",
   "execution_count": 30,
   "metadata": {},
   "outputs": [
    {
     "name": "stderr",
     "output_type": "stream",
     "text": [
      "C:\\ProgramData\\Anaconda3\\lib\\site-packages\\sklearn\\utils\\deprecation.py:125: FutureWarning: You are accessing a training score ('split0_train_score'), which will not be available by default any more in 0.21. If you need training scores, please set return_train_score=True\n",
      "  warnings.warn(*warn_args, **warn_kwargs)\n",
      "C:\\ProgramData\\Anaconda3\\lib\\site-packages\\sklearn\\utils\\deprecation.py:125: FutureWarning: You are accessing a training score ('split1_train_score'), which will not be available by default any more in 0.21. If you need training scores, please set return_train_score=True\n",
      "  warnings.warn(*warn_args, **warn_kwargs)\n",
      "C:\\ProgramData\\Anaconda3\\lib\\site-packages\\sklearn\\utils\\deprecation.py:125: FutureWarning: You are accessing a training score ('split2_train_score'), which will not be available by default any more in 0.21. If you need training scores, please set return_train_score=True\n",
      "  warnings.warn(*warn_args, **warn_kwargs)\n",
      "C:\\ProgramData\\Anaconda3\\lib\\site-packages\\sklearn\\utils\\deprecation.py:125: FutureWarning: You are accessing a training score ('split3_train_score'), which will not be available by default any more in 0.21. If you need training scores, please set return_train_score=True\n",
      "  warnings.warn(*warn_args, **warn_kwargs)\n",
      "C:\\ProgramData\\Anaconda3\\lib\\site-packages\\sklearn\\utils\\deprecation.py:125: FutureWarning: You are accessing a training score ('split4_train_score'), which will not be available by default any more in 0.21. If you need training scores, please set return_train_score=True\n",
      "  warnings.warn(*warn_args, **warn_kwargs)\n",
      "C:\\ProgramData\\Anaconda3\\lib\\site-packages\\sklearn\\utils\\deprecation.py:125: FutureWarning: You are accessing a training score ('mean_train_score'), which will not be available by default any more in 0.21. If you need training scores, please set return_train_score=True\n",
      "  warnings.warn(*warn_args, **warn_kwargs)\n",
      "C:\\ProgramData\\Anaconda3\\lib\\site-packages\\sklearn\\utils\\deprecation.py:125: FutureWarning: You are accessing a training score ('std_train_score'), which will not be available by default any more in 0.21. If you need training scores, please set return_train_score=True\n",
      "  warnings.warn(*warn_args, **warn_kwargs)\n"
     ]
    },
    {
     "data": {
      "text/plain": [
       "{'mean_fit_time': array([23.47623143, 26.09717102, 25.64266567, 23.03624158, 23.97624307]),\n",
       " 'std_fit_time': array([1.31497396, 0.18017348, 0.19786423, 1.13985272, 7.29759504]),\n",
       " 'mean_score_time': array([0.12845626, 0.10591688, 0.12247601, 0.12053213, 0.10876517]),\n",
       " 'std_score_time': array([0.01798965, 0.01319159, 0.01595501, 0.02343401, 0.02498759]),\n",
       " 'param_reg_alpha': masked_array(data=[0, 0.001, 0.005, 0.01, 0.05],\n",
       "              mask=[False, False, False, False, False],\n",
       "        fill_value='?',\n",
       "             dtype=object),\n",
       " 'params': [{'reg_alpha': 0},\n",
       "  {'reg_alpha': 0.001},\n",
       "  {'reg_alpha': 0.005},\n",
       "  {'reg_alpha': 0.01},\n",
       "  {'reg_alpha': 0.05}],\n",
       " 'split0_test_score': array([0.82847047, 0.82847036, 0.83232642, 0.83142789, 0.83241857]),\n",
       " 'split1_test_score': array([0.83516081, 0.83379489, 0.83653633, 0.83573658, 0.83427451]),\n",
       " 'split2_test_score': array([0.84999148, 0.84999194, 0.84999388, 0.8514884 , 0.84924108]),\n",
       " 'split3_test_score': array([0.84577565, 0.84577715, 0.84667318, 0.84667502, 0.84771339]),\n",
       " 'split4_test_score': array([0.84108081, 0.84108013, 0.83929976, 0.839779  , 0.84065185]),\n",
       " 'mean_test_score': array([0.84009585, 0.83982289, 0.84096591, 0.84102138, 0.84085988]),\n",
       " 'std_test_score': array([0.00762441, 0.0078187 , 0.00649793, 0.007253  , 0.00681001]),\n",
       " 'rank_test_score': array([4, 5, 2, 1, 3]),\n",
       " 'split0_train_score': array([0.89033344, 0.89033123, 0.89082123, 0.89038802, 0.89162453]),\n",
       " 'split1_train_score': array([0.88924373, 0.88898468, 0.89008818, 0.88894613, 0.88934373]),\n",
       " 'split2_train_score': array([0.88893361, 0.88893068, 0.88917827, 0.88814775, 0.88998711]),\n",
       " 'split3_train_score': array([0.8902694 , 0.89026674, 0.89170883, 0.89169514, 0.89072502]),\n",
       " 'split4_train_score': array([0.89220517, 0.8922027 , 0.89241841, 0.89253636, 0.89196027]),\n",
       " 'mean_train_score': array([0.89019707, 0.89014321, 0.89084298, 0.89034268, 0.89072813]),\n",
       " 'std_train_score': array([0.00114556, 0.00119202, 0.00114657, 0.00163777, 0.00097851])}"
      ]
     },
     "execution_count": 30,
     "metadata": {},
     "output_type": "execute_result"
    }
   ],
   "source": [
    "gsearch7.cv_results_"
   ]
  },
  {
   "cell_type": "code",
   "execution_count": 32,
   "metadata": {},
   "outputs": [
    {
     "name": "stdout",
     "output_type": "stream",
     "text": [
      "\n",
      " 关于这个模型\n",
      "准确率: 0.9854\n",
      "AUC 得分为(训练集是)：0.789831\n"
     ]
    },
    {
     "data": {
      "image/png": "[encoded data removed]",
      "text/plain": [
       "<Figure size 864x288 with 1 Axes>"
      ]
     },
     "metadata": {
      "needs_background": "light"
     },
     "output_type": "display_data"
    }
   ],
   "source": [
    "predictors = [x  for x in train.columns if x  not in [target, IDcol]]\n",
    "xgb3 = XGBClassifier(learning_rate=0.1, n_estimators=100,\n",
    "                    max_depth=4,min_child_weight=6, gamma=0,subsample=0.8,\n",
    "                    colsample_bytree=0.8, reg_alpha=0.005,\n",
    "                    objective='binary:logistic',nthread=4,\n",
    "                    scale_pos_weight=1, seed=27)\n",
    "modelfit(xgb3, train, test, predictors)"
   ]
  },
  {
   "cell_type": "code",
   "execution_count": 33,
   "metadata": {},
   "outputs": [
    {
     "name": "stdout",
     "output_type": "stream",
     "text": [
      "\n",
      " 关于这个模型\n",
      "准确率: 0.9854\n",
      "AUC 得分为(训练集是)：0.789831\n"
     ]
    },
    {
     "data": {
      "image/png": "[encoded data removed]",
      "text/plain": [
       "<Figure size 864x288 with 1 Axes>"
      ]
     },
     "metadata": {
      "needs_background": "light"
     },
     "output_type": "display_data"
    }
   ],
   "source": [
    "xgb4 = XGBClassifier(\n",
    "        learning_rate =0.01,\n",
    "        n_estimators=5000,\n",
    "        max_depth=4,\n",
    "        min_child_weight=6,\n",
    "        gamma=0,\n",
    "        subsample=0.8,\n",
    "        colsample_bytree=0.8,\n",
    "        reg_alpha=0.005,\n",
    "        objective= 'binary:logistic',\n",
    "        nthread=4,\n",
    "        scale_pos_weight=1,\n",
    "        seed=27)\n",
    "modelfit(xgb4, train, test, predictors)"
   ]
  },
  {
   "cell_type": "code",
   "execution_count": null,
   "metadata": {},
   "outputs": [],
   "source": []
  }
 ],
 "metadata": {
  "kernelspec": {
   "display_name": "Python 3",
   "language": "python",
   "name": "python3"
  },
  "language_info": {
   "codemirror_mode": {
    "name": "ipython",
    "version": 3
   },
   "file_extension": ".py",
   "mimetype": "text/x-python",
   "name": "python",
   "nbconvert_exporter": "python",
   "pygments_lexer": "ipython3",
   "version": "3.7.3"
  }
 },
 "nbformat": 4,
 "nbformat_minor": 2
}
